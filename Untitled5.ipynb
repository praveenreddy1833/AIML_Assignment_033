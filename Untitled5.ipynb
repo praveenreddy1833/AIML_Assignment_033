{
 "cells": [
  {
   "cell_type": "code",
   "execution_count": 1,
   "id": "d2a42568-f627-46a6-acc5-bdf2c3c408b5",
   "metadata": {},
   "outputs": [],
   "source": [
    "str1 = \"Welcome aiml class\"\n",
    "str2 = \"i am praveen\"\n",
    "str3 = \"we are learning python\"\n"
   ]
  },
  {
   "cell_type": "code",
   "execution_count": 2,
   "id": "9ff627b1-8816-451a-9ff2-003b74073f38",
   "metadata": {},
   "outputs": [
    {
     "name": "stdout",
     "output_type": "stream",
     "text": [
      "Welcome aiml class\n",
      "i am praveen\n",
      "we are learning python\n"
     ]
    }
   ],
   "source": [
    "print(str1)\n",
    "print(str2)\n",
    "print(str3)"
   ]
  },
  {
   "cell_type": "code",
   "execution_count": 3,
   "id": "2a5e8b62-181a-4264-9b5c-7243d1f580b0",
   "metadata": {},
   "outputs": [
    {
     "name": "stdout",
     "output_type": "stream",
     "text": [
      "Welcome aiml class\n"
     ]
    },
    {
     "data": {
      "text/plain": [
       "['Welcome', 'aiml', 'class']"
      ]
     },
     "execution_count": 3,
     "metadata": {},
     "output_type": "execute_result"
    }
   ],
   "source": [
    "print(str1)\n",
    "str1.split()"
   ]
  },
  {
   "cell_type": "code",
   "execution_count": 4,
   "id": "35e9a10c-4d40-44a4-88ad-e00af429b64d",
   "metadata": {},
   "outputs": [
    {
     "data": {
      "text/plain": [
       "'H e l l o   E v e r y o n e'"
      ]
     },
     "execution_count": 4,
     "metadata": {},
     "output_type": "execute_result"
    }
   ],
   "source": [
    "str4 = \"Hello Everyone\"\n",
    "' '.join(str4)"
   ]
  },
  {
   "cell_type": "code",
   "execution_count": 5,
   "id": "52a7e55e-8ab5-4c42-ac85-3947020ba57b",
   "metadata": {},
   "outputs": [
    {
     "data": {
      "text/plain": [
       "'Hello, How are you'"
      ]
     },
     "execution_count": 5,
     "metadata": {},
     "output_type": "execute_result"
    }
   ],
   "source": [
    "# Use of strip() method \n",
    "str5 = \"     Hello, How are you    \"\n",
    "str5.strip()"
   ]
  },
  {
   "cell_type": "code",
   "execution_count": null,
   "id": "f013d5e1-3487-4ce3-ab2e-8116cb8b61fb",
   "metadata": {},
   "outputs": [],
   "source": []
  }
 ],
 "metadata": {
  "kernelspec": {
   "display_name": "Python 3 (ipykernel)",
   "language": "python",
   "name": "python3"
  },
  "language_info": {
   "codemirror_mode": {
    "name": "ipython",
    "version": 3
   },
   "file_extension": ".py",
   "mimetype": "text/x-python",
   "name": "python",
   "nbconvert_exporter": "python",
   "pygments_lexer": "ipython3",
   "version": "3.12.7"
  }
 },
 "nbformat": 4,
 "nbformat_minor": 5
}
