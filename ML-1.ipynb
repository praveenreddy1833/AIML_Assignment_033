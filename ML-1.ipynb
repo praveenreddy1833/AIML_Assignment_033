{
 "cells": [
  {
   "cell_type": "code",
   "execution_count": 1,
   "id": "508c24f3-a9f0-4a02-a49c-25381533fb36",
   "metadata": {},
   "outputs": [
    {
     "name": "stdout",
     "output_type": "stream",
     "text": [
      "[10, 30.0, 30, 30.0, 50]\n"
     ]
    }
   ],
   "source": [
    "# 1) Missing values to mean\n",
    "l = [10,None,30,None,50]\n",
    "valid=[x for x in l if x is not None]\n",
    "mean = sum(valid)/len(valid)\n",
    "for i in range(len(l)):\n",
    "    if l[i] is None:\n",
    "        l[i] = mean\n",
    "print(l)"
   ]
  },
  {
   "cell_type": "code",
   "execution_count": null,
   "id": "37a4fd22-7a80-48d4-b822-4d85b081d4f2",
   "metadata": {},
   "outputs": [],
   "source": []
  }
 ],
 "metadata": {
  "kernelspec": {
   "display_name": "Python 3 (ipykernel)",
   "language": "python",
   "name": "python3"
  },
  "language_info": {
   "codemirror_mode": {
    "name": "ipython",
    "version": 3
   },
   "file_extension": ".py",
   "mimetype": "text/x-python",
   "name": "python",
   "nbconvert_exporter": "python",
   "pygments_lexer": "ipython3",
   "version": "3.12.7"
  }
 },
 "nbformat": 4,
 "nbformat_minor": 5
}
