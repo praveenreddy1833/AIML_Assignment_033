{
 "cells": [
  {
   "cell_type": "code",
   "execution_count": 8,
   "id": "9d70a960-9822-40e2-b9d8-b60f39a0561d",
   "metadata": {},
   "outputs": [],
   "source": [
    "import pandas as pd\n",
    "import numpy as np\n",
    "import matplotlib.pyplot as plt\n",
    "import seaborn as sns\n",
    "import statsmodels.formula.api as smf"
   ]
  },
  {
   "cell_type": "code",
   "execution_count": 11,
   "id": "f5e0e321-d7d8-4b02-b7f3-6e15f31b41b4",
   "metadata": {},
   "outputs": [
    {
     "name": "stdout",
     "output_type": "stream",
     "text": [
      "                         Newspaper     daily    sunday\n",
      "0                    Baltimore Sun   391.952   488.506\n",
      "1                     Boston Globe   516.981   798.298\n",
      "2                    Boston Herald   355.628   235.084\n",
      "3               Charlotte Observer   238.555   299.451\n",
      "4                Chicago Sun Times   537.780   559.093\n",
      "5                  Chicago Tribune   733.775  1133.249\n",
      "6              Cincinnati Enquirer   198.832   348.744\n",
      "7                      Denver Post   252.624   417.779\n",
      "8              Des Moines Register   206.204   344.522\n",
      "9                 Hartford Courant   231.177   323.084\n",
      "10               Houston Chronicle   449.755   620.752\n",
      "11                Kansas City Star   288.571   423.305\n",
      "12         Los Angeles Daily  News   185.736   202.614\n",
      "13               Los Angeles Times  1164.388  1531.527\n",
      "14                    Miami Herald   444.581   553.479\n",
      "15        Minneapolis Star Tribune   412.871   685.975\n",
      "16      New Orleans Times-Picayune   272.280   324.241\n",
      "17             New York Daily News   781.796   983.240\n",
      "18                  New York Times  1209.225  1762.015\n",
      "19                         Newsday   825.512   960.308\n",
      "20              Omaha World Herald   223.748   284.611\n",
      "21          Orange County Register   354.843   407.760\n",
      "22           Philadelphia Inquirer   515.523   982.663\n",
      "23                Pittsburgh Press   220.465   557.000\n",
      "24              Portland Oregonian   337.672   440.923\n",
      "25     Providence Journal-Bulletin   197.120   268.060\n",
      "26  Rochester Democrat & Chronicle   133.239   262.048\n",
      "27             Rocky Mountain News   374.009   432.502\n",
      "28                  Sacramento Bee   273.844   338.355\n",
      "29         San Francisco Chronicle   570.364   704.322\n",
      "30         St. Louis Post-Dispatch   391.286   585.681\n",
      "31          St. Paul Pioneer Press   201.860   267.781\n",
      "32                   Tampa Tribune   321.626   408.343\n",
      "33                 Washington Post   838.902  1165.567\n"
     ]
    }
   ],
   "source": [
    "data = pd.read_csv(\"NewspaperData.csv\")\n",
    "print(data)"
   ]
  },
  {
   "cell_type": "code",
   "execution_count": 12,
   "id": "2dfda933-ebc0-4481-aa31-74e82316516f",
   "metadata": {},
   "outputs": [
    {
     "name": "stdout",
     "output_type": "stream",
     "text": [
      "<class 'pandas.core.frame.DataFrame'>\n",
      "RangeIndex: 34 entries, 0 to 33\n",
      "Data columns (total 3 columns):\n",
      " #   Column     Non-Null Count  Dtype  \n",
      "---  ------     --------------  -----  \n",
      " 0   Newspaper  34 non-null     object \n",
      " 1   daily      34 non-null     float64\n",
      " 2   sunday     34 non-null     float64\n",
      "dtypes: float64(2), object(1)\n",
      "memory usage: 948.0+ bytes\n"
     ]
    }
   ],
   "source": [
    "data.info()"
   ]
  },
  {
   "cell_type": "code",
   "execution_count": null,
   "id": "5a2930f0-9bc8-4bed-87d9-3aa03a5f90b3",
   "metadata": {},
   "outputs": [],
   "source": []
  },
  {
   "cell_type": "code",
   "execution_count": 14,
   "id": "10103f9e-c231-441f-b767-76b65a29bc55",
   "metadata": {},
   "outputs": [
    {
     "data": {
      "image/png": "[encoded data removed]",
      "text/plain": [
       "<Figure size 640x480 with 1 Axes>"
      ]
     },
     "metadata": {},
     "output_type": "display_data"
    }
   ],
   "source": [
    "x= data[\"daily\"]\n",
    "y= data[\"sunday\"]\n",
    "plt.scatter(data[\"daily\"], data[\"sunday\"])\n",
    "plt.xlim(0, max(x) + (100))\n",
    "plt.ylim(0, max(y) + (100) )        \n",
    "plt.show()"
   ]
  },
  {
   "cell_type": "code",
   "execution_count": 15,
   "id": "167b4607-53a3-474e-b82d-777f95017182",
   "metadata": {},
   "outputs": [
    {
     "data": {
      "text/html": [
       "<div>\n",
       "<style scoped>\n",
       "    .dataframe tbody tr th:only-of-type {\n",
       "        vertical-align: middle;\n",
       "    }\n",
       "\n",
       "    .dataframe tbody tr th {\n",
       "        vertical-align: top;\n",
       "    }\n",
       "\n",
       "    .dataframe thead th {\n",
       "        text-align: right;\n",
       "    }\n",
       "</style>\n",
       "<table border=\"1\" class=\"dataframe\">\n",
       "  <thead>\n",
       "    <tr style=\"text-align: right;\">\n",
       "      <th></th>\n",
       "      <th>daily</th>\n",
       "      <th>sunday</th>\n",
       "    </tr>\n",
       "  </thead>\n",
       "  <tbody>\n",
       "    <tr>\n",
       "      <th>daily</th>\n",
       "      <td>1.000000</td>\n",
       "      <td>0.958154</td>\n",
       "    </tr>\n",
       "    <tr>\n",
       "      <th>sunday</th>\n",
       "      <td>0.958154</td>\n",
       "      <td>1.000000</td>\n",
       "    </tr>\n",
       "  </tbody>\n",
       "</table>\n",
       "</div>"
      ],
      "text/plain": [
       "           daily    sunday\n",
       "daily   1.000000  0.958154\n",
       "sunday  0.958154  1.000000"
      ]
     },
     "execution_count": 15,
     "metadata": {},
     "output_type": "execute_result"
    }
   ],
   "source": [
    "data.corr(numeric_only=True)\n"
   ]
  },
  {
   "cell_type": "markdown",
   "id": "742794d3-bf96-451c-8104-3f8ad3042744",
   "metadata": {},
   "source": [
    "**Observations**\n",
    "- There are 2 outliers in boxplot\n",
    "- it is right skewed distribution in histograph plot\n",
    "\n"
   ]
  },
  {
   "cell_type": "code",
   "execution_count": 20,
   "id": "d7d5bddd-61d5-47b2-8310-eb4891dcf5bc",
   "metadata": {},
   "outputs": [],
   "source": [
    "## Linerar Regression\n",
    "import statsmodels.formula.api as smf\n",
    "model1 = smf.ols(\"sunday~daily\",data = data).fit()"
   ]
  },
  {
   "cell_type": "code",
   "execution_count": 27,
   "id": "73fe970e-8be0-420e-9f0a-438e2fdf223e",
   "metadata": {},
   "outputs": [],
   "source": [
    "import warnings \n",
    "warnings.filterwarnings(\"ignore\")"
   ]
  },
  {
   "cell_type": "code",
   "execution_count": 28,
   "id": "e56706a2-c450-494a-8932-29cea2550058",
   "metadata": {},
   "outputs": [
    {
     "data": {
      "text/html": [
       "<table class=\"simpletable\">\n",
       "<caption>OLS Regression Results</caption>\n",
       "<tr>\n",
       "  <th>Dep. Variable:</th>         <td>sunday</td>      <th>  R-squared:         </th> <td>   0.918</td>\n",
       "</tr>\n",
       "<tr>\n",
       "  <th>Model:</th>                   <td>OLS</td>       <th>  Adj. R-squared:    </th> <td>   0.915</td>\n",
       "</tr>\n",
       "<tr>\n",
       "  <th>Method:</th>             <td>Least Squares</td>  <th>  F-statistic:       </th> <td>   358.5</td>\n",
       "</tr>\n",
       "<tr>\n",
       "  <th>Date:</th>             <td>Sat, 01 Feb 2025</td> <th>  Prob (F-statistic):</th> <td>6.02e-19</td>\n",
       "</tr>\n",
       "<tr>\n",
       "  <th>Time:</th>                 <td>11:30:37</td>     <th>  Log-Likelihood:    </th> <td> -206.85</td>\n",
       "</tr>\n",
       "<tr>\n",
       "  <th>No. Observations:</th>      <td>    34</td>      <th>  AIC:               </th> <td>   417.7</td>\n",
       "</tr>\n",
       "<tr>\n",
       "  <th>Df Residuals:</th>          <td>    32</td>      <th>  BIC:               </th> <td>   420.8</td>\n",
       "</tr>\n",
       "<tr>\n",
       "  <th>Df Model:</th>              <td>     1</td>      <th>                     </th>     <td> </td>   \n",
       "</tr>\n",
       "<tr>\n",
       "  <th>Covariance Type:</th>      <td>nonrobust</td>    <th>                     </th>     <td> </td>   \n",
       "</tr>\n",
       "</table>\n",
       "<table class=\"simpletable\">\n",
       "<tr>\n",
       "      <td></td>         <th>coef</th>     <th>std err</th>      <th>t</th>      <th>P>|t|</th>  <th>[0.025</th>    <th>0.975]</th>  \n",
       "</tr>\n",
       "<tr>\n",
       "  <th>Intercept</th> <td>   13.8356</td> <td>   35.804</td> <td>    0.386</td> <td> 0.702</td> <td>  -59.095</td> <td>   86.766</td>\n",
       "</tr>\n",
       "<tr>\n",
       "  <th>daily</th>     <td>    1.3397</td> <td>    0.071</td> <td>   18.935</td> <td> 0.000</td> <td>    1.196</td> <td>    1.484</td>\n",
       "</tr>\n",
       "</table>\n",
       "<table class=\"simpletable\">\n",
       "<tr>\n",
       "  <th>Omnibus:</th>       <td> 3.297</td> <th>  Durbin-Watson:     </th> <td>   2.059</td>\n",
       "</tr>\n",
       "<tr>\n",
       "  <th>Prob(Omnibus):</th> <td> 0.192</td> <th>  Jarque-Bera (JB):  </th> <td>   1.990</td>\n",
       "</tr>\n",
       "<tr>\n",
       "  <th>Skew:</th>          <td> 0.396</td> <th>  Prob(JB):          </th> <td>   0.370</td>\n",
       "</tr>\n",
       "<tr>\n",
       "  <th>Kurtosis:</th>      <td> 3.882</td> <th>  Cond. No.          </th> <td>    965.</td>\n",
       "</tr>\n",
       "</table><br/><br/>Notes:<br/>[1] Standard Errors assume that the covariance matrix of the errors is correctly specified."
      ],
      "text/latex": [
       "\\begin{center}\n",
       "\\begin{tabular}{lclc}\n",
       "\\toprule\n",
       "\\textbf{Dep. Variable:}    &      sunday      & \\textbf{  R-squared:         } &     0.918   \\\\\n",
       "\\textbf{Model:}            &       OLS        & \\textbf{  Adj. R-squared:    } &     0.915   \\\\\n",
       "\\textbf{Method:}           &  Least Squares   & \\textbf{  F-statistic:       } &     358.5   \\\\\n",
       "\\textbf{Date:}             & Sat, 01 Feb 2025 & \\textbf{  Prob (F-statistic):} &  6.02e-19   \\\\\n",
       "\\textbf{Time:}             &     11:30:37     & \\textbf{  Log-Likelihood:    } &   -206.85   \\\\\n",
       "\\textbf{No. Observations:} &          34      & \\textbf{  AIC:               } &     417.7   \\\\\n",
       "\\textbf{Df Residuals:}     &          32      & \\textbf{  BIC:               } &     420.8   \\\\\n",
       "\\textbf{Df Model:}         &           1      & \\textbf{                     } &             \\\\\n",
       "\\textbf{Covariance Type:}  &    nonrobust     & \\textbf{                     } &             \\\\\n",
       "\\bottomrule\n",
       "\\end{tabular}\n",
       "\\begin{tabular}{lcccccc}\n",
       "                   & \\textbf{coef} & \\textbf{std err} & \\textbf{t} & \\textbf{P$> |$t$|$} & \\textbf{[0.025} & \\textbf{0.975]}  \\\\\n",
       "\\midrule\n",
       "\\textbf{Intercept} &      13.8356  &       35.804     &     0.386  &         0.702        &      -59.095    &       86.766     \\\\\n",
       "\\textbf{daily}     &       1.3397  &        0.071     &    18.935  &         0.000        &        1.196    &        1.484     \\\\\n",
       "\\bottomrule\n",
       "\\end{tabular}\n",
       "\\begin{tabular}{lclc}\n",
       "\\textbf{Omnibus:}       &  3.297 & \\textbf{  Durbin-Watson:     } &    2.059  \\\\\n",
       "\\textbf{Prob(Omnibus):} &  0.192 & \\textbf{  Jarque-Bera (JB):  } &    1.990  \\\\\n",
       "\\textbf{Skew:}          &  0.396 & \\textbf{  Prob(JB):          } &    0.370  \\\\\n",
       "\\textbf{Kurtosis:}      &  3.882 & \\textbf{  Cond. No.          } &     965.  \\\\\n",
       "\\bottomrule\n",
       "\\end{tabular}\n",
       "%\\caption{OLS Regression Results}\n",
       "\\end{center}\n",
       "\n",
       "Notes: \\newline\n",
       " [1] Standard Errors assume that the covariance matrix of the errors is correctly specified."
      ],
      "text/plain": [
       "<class 'statsmodels.iolib.summary.Summary'>\n",
       "\"\"\"\n",
       "                            OLS Regression Results                            \n",
       "==============================================================================\n",
       "Dep. Variable:                 sunday   R-squared:                       0.918\n",
       "Model:                            OLS   Adj. R-squared:                  0.915\n",
       "Method:                 Least Squares   F-statistic:                     358.5\n",
       "Date:                Sat, 01 Feb 2025   Prob (F-statistic):           6.02e-19\n",
       "Time:                        11:30:37   Log-Likelihood:                -206.85\n",
       "No. Observations:                  34   AIC:                             417.7\n",
       "Df Residuals:                      32   BIC:                             420.8\n",
       "Df Model:                           1                                         \n",
       "Covariance Type:            nonrobust                                         \n",
       "==============================================================================\n",
       "                 coef    std err          t      P>|t|      [0.025      0.975]\n",
       "------------------------------------------------------------------------------\n",
       "Intercept     13.8356     35.804      0.386      0.702     -59.095      86.766\n",
       "daily          1.3397      0.071     18.935      0.000       1.196       1.484\n",
       "==============================================================================\n",
       "Omnibus:                        3.297   Durbin-Watson:                   2.059\n",
       "Prob(Omnibus):                  0.192   Jarque-Bera (JB):                1.990\n",
       "Skew:                           0.396   Prob(JB):                        0.370\n",
       "Kurtosis:                       3.882   Cond. No.                         965.\n",
       "==============================================================================\n",
       "\n",
       "Notes:\n",
       "[1] Standard Errors assume that the covariance matrix of the errors is correctly specified.\n",
       "\"\"\""
      ]
     },
     "execution_count": 28,
     "metadata": {},
     "output_type": "execute_result"
    }
   ],
   "source": [
    " model1.summary()"
   ]
  },
  {
   "cell_type": "markdown",
   "id": "ccc9a752-17f3-4076-9255-238de390c965",
   "metadata": {},
   "source": [
    "**Observations**\n",
    "- The predicted Equation is y_hat = Beta_0 + Beta_1\n",
    "- y_hat = 13.8356 + 1.2297\n",
    "- The probability(p-value) for intercept (beta_0) is 0.707 > 0.05\n",
    "- Therefore the intercept cofficent may not be that much significent in prediction\n",
    "- However the p-value for \"daily\" (beta_1) is 0.00 < 0.05\n",
    "- Therefore the beta_1 coefficient is highly significent and is contributint to prediction."
   ]
  },
  {
   "cell_type": "code",
   "execution_count": 32,
   "id": "5b0d7b9b-438d-433c-8ddc-55ab2ed2d6fc",
   "metadata": {},
   "outputs": [
    {
     "data": {
      "image/png": "[encoded data removed]",
      "text/plain": [
       "<Figure size 640x480 with 1 Axes>"
      ]
     },
     "metadata": {},
     "output_type": "display_data"
    }
   ],
   "source": [
    "sns.regplot(x=\"daily\", y=\"sunday\", data=data)\n",
    "plt.xlim([0,1250])\n",
    "plt.show()"
   ]
  },
  {
   "cell_type": "code",
   "execution_count": null,
   "id": "9b258d11-f3c6-443b-954c-878dd77f0e24",
   "metadata": {},
   "outputs": [],
   "source": []
  }
 ],
 "metadata": {
  "kernelspec": {
   "display_name": "Python 3 (ipykernel)",
   "language": "python",
   "name": "python3"
  },
  "language_info": {
   "codemirror_mode": {
    "name": "ipython",
    "version": 3
   },
   "file_extension": ".py",
   "mimetype": "text/x-python",
   "name": "python",
   "nbconvert_exporter": "python",
   "pygments_lexer": "ipython3",
   "version": "3.12.7"
  }
 },
 "nbformat": 4,
 "nbformat_minor": 5
}
