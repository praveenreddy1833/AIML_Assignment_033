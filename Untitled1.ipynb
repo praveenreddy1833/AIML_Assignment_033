{
 "cells": [
  {
   "cell_type": "code",
   "execution_count": 4,
   "id": "de91cbdc-1464-48da-aab6-d770d08f0a2f",
   "metadata": {},
   "outputs": [
    {
     "name": "stdout",
     "output_type": "stream",
     "text": [
      "30\n",
      "60\n",
      "90\n",
      "120\n"
     ]
    }
   ],
   "source": [
    "my_list = [10, 20, 30, 40]\n",
    "for item in my_list:\n",
    "    print(3*item)\n",
    "    "
   ]
  },
  {
   "cell_type": "code",
   "execution_count": 5,
   "id": "b021aa5a-8c3b-4fca-a94a-47cff157ac57",
   "metadata": {},
   "outputs": [
    {
     "data": {
      "text/plain": [
       "5.744562646538029"
      ]
     },
     "execution_count": 5,
     "metadata": {},
     "output_type": "execute_result"
    }
   ],
   "source": [
    "root_1 = ((33)**0.5)\n",
    "root_1"
   ]
  },
  {
   "cell_type": "code",
   "execution_count": 6,
   "id": "70806dfb-fd93-4e5b-9621-fd4fff1690ee",
   "metadata": {},
   "outputs": [
    {
     "data": {
      "text/plain": [
       "[10, 20, 30, 40]"
      ]
     },
     "execution_count": 6,
     "metadata": {},
     "output_type": "execute_result"
    }
   ],
   "source": [
    "y = [10, 20, 30, 40]\n",
    "y"
   ]
  },
  {
   "cell_type": "code",
   "execution_count": 8,
   "id": "99cabad9-d921-4706-b002-b78107edc327",
   "metadata": {},
   "outputs": [
    {
     "data": {
      "text/plain": [
       "['__add__',\n",
       " '__class__',\n",
       " '__class_getitem__',\n",
       " '__contains__',\n",
       " '__delattr__',\n",
       " '__delitem__',\n",
       " '__dir__',\n",
       " '__doc__',\n",
       " '__eq__',\n",
       " '__format__',\n",
       " '__ge__',\n",
       " '__getattribute__',\n",
       " '__getitem__',\n",
       " '__getstate__',\n",
       " '__gt__',\n",
       " '__hash__',\n",
       " '__iadd__',\n",
       " '__imul__',\n",
       " '__init__',\n",
       " '__init_subclass__',\n",
       " '__iter__',\n",
       " '__le__',\n",
       " '__len__',\n",
       " '__lt__',\n",
       " '__mul__',\n",
       " '__ne__',\n",
       " '__new__',\n",
       " '__reduce__',\n",
       " '__reduce_ex__',\n",
       " '__repr__',\n",
       " '__reversed__',\n",
       " '__rmul__',\n",
       " '__setattr__',\n",
       " '__setitem__',\n",
       " '__sizeof__',\n",
       " '__str__',\n",
       " '__subclasshook__',\n",
       " 'append',\n",
       " 'clear',\n",
       " 'copy',\n",
       " 'count',\n",
       " 'extend',\n",
       " 'index',\n",
       " 'insert',\n",
       " 'pop',\n",
       " 'remove',\n",
       " 'reverse',\n",
       " 'sort']"
      ]
     },
     "execution_count": 8,
     "metadata": {},
     "output_type": "execute_result"
    }
   ],
   "source": [
    "dir(list)"
   ]
  },
  {
   "cell_type": "code",
   "execution_count": 11,
   "id": "a31fc835-dd80-487d-847e-552ca1f514bf",
   "metadata": {},
   "outputs": [],
   "source": [
    "orders = [[\"apple\", 6], [\"banana\", 4], [\"cherry\",7], [\"dragon\",3]]"
   ]
  },
  {
   "cell_type": "code",
   "execution_count": 13,
   "id": "0b00f83b-07ad-4071-a44b-eae95162a8d4",
   "metadata": {},
   "outputs": [
    {
     "data": {
      "text/plain": [
       "[['apple', 6], ['banana', 4], ['cherry', 7], [...]]"
      ]
     },
     "execution_count": 13,
     "metadata": {},
     "output_type": "execute_result"
    }
   ],
   "source": [
    "new_order1 = [[\"apple\", 6], [\"banana\", 4], [\"cherry\",7], [\"dragon\",3]]\n",
    "new_order1.append(new_order1)\n",
    "new_order1"
   ]
  },
  {
   "cell_type": "code",
   "execution_count": 27,
   "id": "672a0824-30fa-46fa-b4e2-64f2ee1feba3",
   "metadata": {},
   "outputs": [
    {
     "name": "stdout",
     "output_type": "stream",
     "text": [
      "3\n"
     ]
    }
   ],
   "source": [
    "orders = [[\"apple\", 6], [\"banana\", 4], [\"cherry\",7], [\"dragon\",3]]\n",
    "for item in orders:\n",
    "        if item[0] == \"dragon\":\n",
    "            print(item[1])\n",
    "       "
   ]
  },
  {
   "cell_type": "code",
   "execution_count": 38,
   "id": "59709eb5-28dc-48ca-8381-682ee3518620",
   "metadata": {},
   "outputs": [
    {
     "name": "stdout",
     "output_type": "stream",
     "text": [
      "[['apple', 6], ['banana', 4], ['dragon', 3]]\n"
     ]
    }
   ],
   "source": [
    "orders = [[\"apple\", 6], [\"banana\", 4], [\"cherry\",7], [\"dragon\",3]]\n",
    "for item in orders:\n",
    "    if item[0] == \"cherry\":\n",
    "        orders.remove(item)\n",
    "print(orders)"
   ]
  },
  {
   "cell_type": "code",
   "execution_count": 39,
   "id": "9d896546-6784-44df-95b2-f15b0c7775a8",
   "metadata": {},
   "outputs": [
    {
     "data": {
      "text/plain": [
       "['dragon', 3]"
      ]
     },
     "execution_count": 39,
     "metadata": {},
     "output_type": "execute_result"
    }
   ],
   "source": [
    "orders.pop(2)"
   ]
  },
  {
   "cell_type": "code",
   "execution_count": 40,
   "id": "287f9aa0-e0e1-4a85-adc7-0e61cee74047",
   "metadata": {},
   "outputs": [
    {
     "data": {
      "text/plain": [
       "[['apple', 6], ['banana', 4]]"
      ]
     },
     "execution_count": 40,
     "metadata": {},
     "output_type": "execute_result"
    }
   ],
   "source": [
    "orders"
   ]
  },
  {
   "cell_type": "code",
   "execution_count": 41,
   "id": "9c178d5f-2d69-4f32-86f2-0646238d30ed",
   "metadata": {},
   "outputs": [
    {
     "data": {
      "text/plain": [
       "['apple', 6]"
      ]
     },
     "execution_count": 41,
     "metadata": {},
     "output_type": "execute_result"
    }
   ],
   "source": [
    "orders.pop(0)\n"
   ]
  },
  {
   "cell_type": "code",
   "execution_count": 42,
   "id": "f4d37ca1-0f64-48b8-90d0-d2120cf5aa67",
   "metadata": {},
   "outputs": [
    {
     "data": {
      "text/plain": [
       "[['banana', 4]]"
      ]
     },
     "execution_count": 42,
     "metadata": {},
     "output_type": "execute_result"
    }
   ],
   "source": [
    "orders\n"
   ]
  },
  {
   "cell_type": "code",
   "execution_count": 43,
   "id": "370772bc-52ed-4330-8e0c-9fc9f0b968c3",
   "metadata": {},
   "outputs": [
    {
     "data": {
      "text/plain": [
       "['banana', 4]"
      ]
     },
     "execution_count": 43,
     "metadata": {},
     "output_type": "execute_result"
    }
   ],
   "source": [
    "orders.pop(0)\n"
   ]
  },
  {
   "cell_type": "code",
   "execution_count": 44,
   "id": "a3abbf1e-2d29-4063-9216-f8103efb665b",
   "metadata": {},
   "outputs": [
    {
     "data": {
      "text/plain": [
       "[]"
      ]
     },
     "execution_count": 44,
     "metadata": {},
     "output_type": "execute_result"
    }
   ],
   "source": [
    "orders"
   ]
  },
  {
   "cell_type": "code",
   "execution_count": 1,
   "id": "ccf2245a-a1e5-4cde-ae55-ecfef6946a03",
   "metadata": {},
   "outputs": [],
   "source": [
    "orders = [[\"apple\", 6], [\"banana\", 4], [\"cherry\",7], [\"dragon\",3], [\"grape\",5]]"
   ]
  },
  {
   "cell_type": "code",
   "execution_count": 3,
   "id": "369b5b0e-c83c-4aff-863e-239e2060d8c1",
   "metadata": {},
   "outputs": [
    {
     "name": "stdout",
     "output_type": "stream",
     "text": [
      "[['apple', 6], ['banana', 4], ['cherry', 10], ['dragon', 3], ['grape', 5]]\n"
     ]
    }
   ],
   "source": [
    "for each in orders:\n",
    "    if each[0] == \"cherry\":\n",
    "        each[1] = 10\n",
    "\n",
    "print(orders)"
   ]
  },
  {
   "cell_type": "code",
   "execution_count": 9,
   "id": "83022c8d-ee1c-4422-a53c-f3642b50ce17",
   "metadata": {},
   "outputs": [
    {
     "name": "stdout",
     "output_type": "stream",
     "text": [
      "[['apple', 15], ['banana', 4], ['cherry', 10], ['dragon', 3], ['grape', 5], ['apple', 15], ['apple', 15]]\n"
     ]
    }
   ],
   "source": [
    "for each in orders:\n",
    "    if each[0] == \"apple\":\n",
    "        each[1] = 15\n",
    "\n",
    "print(orders)"
   ]
  },
  {
   "cell_type": "code",
   "execution_count": 10,
   "id": "4f38fc3c-0fbd-4754-bcb5-885e3e911812",
   "metadata": {},
   "outputs": [],
   "source": [
    "orders.append([\"apple\",25])\n"
   ]
  },
  {
   "cell_type": "code",
   "execution_count": 11,
   "id": "277013b9-531b-4956-bae0-c32f75166540",
   "metadata": {},
   "outputs": [
    {
     "name": "stdout",
     "output_type": "stream",
     "text": [
      "[['apple', 15], ['banana', 4], ['cherry', 10], ['dragon', 3], ['grape', 5], ['apple', 15], ['apple', 15], ['apple', 25]]\n"
     ]
    }
   ],
   "source": [
    "print(orders)"
   ]
  },
  {
   "cell_type": "code",
   "execution_count": 12,
   "id": "55701dc3-7ce1-4a10-8bc9-fc82f79a5897",
   "metadata": {},
   "outputs": [
    {
     "name": "stdout",
     "output_type": "stream",
     "text": [
      "15\n",
      "15\n",
      "15\n",
      "25\n"
     ]
    }
   ],
   "source": [
    "for item in orders:\n",
    "        if item[0] == \"apple\":\n",
    "            print(item[1])"
   ]
  },
  {
   "cell_type": "code",
   "execution_count": 14,
   "id": "36dadcfb-0ab3-4deb-9aff-eb1c55314f08",
   "metadata": {},
   "outputs": [
    {
     "name": "stdout",
     "output_type": "stream",
     "text": [
      "[15, 15, 15, 25]\n",
      "70\n"
     ]
    }
   ],
   "source": [
    "total = []\n",
    "for item in orders:\n",
    "        if item[0] == \"apple\":\n",
    "            total.append(item[1])\n",
    "print(total)\n",
    "print(sum(total))"
   ]
  },
  {
   "cell_type": "code",
   "execution_count": 16,
   "id": "0aa66305-0c5e-4ebf-93d3-846cd4e8f28f",
   "metadata": {},
   "outputs": [
    {
     "name": "stdout",
     "output_type": "stream",
     "text": [
      "(3, 4, 9, 'A', 5.2) ('Hello', 5, 10, 20) (1, 2, 3, 5, 7.5)\n",
      "<class 'tuple'>\n",
      "<class 'tuple'>\n",
      "<class 'tuple'>\n"
     ]
    }
   ],
   "source": [
    "#Tupples\n",
    "tup1 = (3,4,9,'A',5.2)\n",
    "tup2 = \"Hello\",5,10,20\n",
    "tup3 = tuple([1,2,3,5,7.5])\n",
    "\n",
    "print(tup1,tup2,tup3)\n",
    "print(type(tup1))\n",
    "print(type(tup2))\n",
    "print(type(tup3))\n"
   ]
  },
  {
   "cell_type": "code",
   "execution_count": 20,
   "id": "2f8b426f-b664-4e68-91d4-934055aa3049",
   "metadata": {},
   "outputs": [
    {
     "data": {
      "text/plain": [
       "('Hello', 5, 10, 20)"
      ]
     },
     "execution_count": 20,
     "metadata": {},
     "output_type": "execute_result"
    }
   ],
   "source": [
    "#Slicing\n",
    "tup2[0:4]"
   ]
  },
  {
   "cell_type": "code",
   "execution_count": 22,
   "id": "7dfbb819-bf6e-4875-8a40-1b5891963b3d",
   "metadata": {},
   "outputs": [
    {
     "data": {
      "text/plain": [
       "3"
      ]
     },
     "execution_count": 22,
     "metadata": {},
     "output_type": "execute_result"
    }
   ],
   "source": [
    "#find index value\n",
    "tup1.index('A')"
   ]
  },
  {
   "cell_type": "code",
   "execution_count": 31,
   "id": "6dd6263e-2658-4ea7-afac-c3f724100b45",
   "metadata": {},
   "outputs": [
    {
     "name": "stdout",
     "output_type": "stream",
     "text": [
      "2\n",
      "4\n"
     ]
    }
   ],
   "source": [
    "tup4 = (10, 20, 30, 40, 10, 20, 70, 20, 90, 20)\n",
    "print(tup4.count(10))\n",
    "print(tup4.count(20))"
   ]
  },
  {
   "cell_type": "code",
   "execution_count": 34,
   "id": "e00b0979-f096-40da-9496-2efeb9238440",
   "metadata": {},
   "outputs": [
    {
     "name": "stdout",
     "output_type": "stream",
     "text": [
      "{'a': 1, 'b': 2, 'c': 3}\n",
      "<class 'dict'>\n"
     ]
    }
   ],
   "source": [
    "d1 = {\"a\":1, \"b\":2, \"c\":3}\n",
    "print(d1)\n",
    "print(type(d1))"
   ]
  },
  {
   "cell_type": "code",
   "execution_count": 35,
   "id": "912a8f12-d802-4592-873f-31615dc243b2",
   "metadata": {},
   "outputs": [
    {
     "name": "stdout",
     "output_type": "stream",
     "text": [
      "{'A': 10, 'B': 20, 'C': 30}\n"
     ]
    }
   ],
   "source": [
    "d2 = dict(A=10, B=20, C=30)\n",
    "print(d2)"
   ]
  },
  {
   "cell_type": "code",
   "execution_count": 39,
   "id": "1fd8c9de-d797-4392-9082-702298fee0c6",
   "metadata": {},
   "outputs": [
    {
     "name": "stdout",
     "output_type": "stream",
     "text": [
      "{'x': 1, 'y': 2, 'z': 3}\n"
     ]
    }
   ],
   "source": [
    "d3 = dict([(\"x\", 1), (\"y\", 2), (\"z\", 3)])\n",
    "print(d3)"
   ]
  },
  {
   "cell_type": "code",
   "execution_count": null,
   "id": "d8d3cbea-1519-4bee-b548-00868c1f2f1c",
   "metadata": {},
   "outputs": [],
   "source": []
  }
 ],
 "metadata": {
  "kernelspec": {
   "display_name": "Python 3 (ipykernel)",
   "language": "python",
   "name": "python3"
  },
  "language_info": {
   "codemirror_mode": {
    "name": "ipython",
    "version": 3
   },
   "file_extension": ".py",
   "mimetype": "text/x-python",
   "name": "python",
   "nbconvert_exporter": "python",
   "pygments_lexer": "ipython3",
   "version": "3.12.7"
  }
 },
 "nbformat": 4,
 "nbformat_minor": 5
}
